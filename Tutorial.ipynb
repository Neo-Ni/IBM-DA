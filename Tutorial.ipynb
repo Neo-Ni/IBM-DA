{
  "cells": [
    {
      "cell_type": "markdown",
      "metadata": {
        "id": "dJIuZPOkH_vO"
      },
      "source": [
        "![rmotr](https://user-images.githubusercontent.com/7065401/52071918-bda15380-2562-11e9-828c-7f95297e4a82.png)\n",
        "<hr style=\"margin-bottom: 40px;\">\n",
        "\n",
        "<img src=\"https://user-images.githubusercontent.com/7065401/55025843-7d99a280-4fe0-11e9-938a-4879d95c4130.png\"\n",
        "    style=\"width:150px; float: right; margin: 0 40px 40px 40px;\"></img>\n",
        "\n",
        "# Interactive Notebooks Tutorial\n",
        "\n",
        "Welcome to Notebooks.ai ❤️, a fully online 🤖, cloud-based ☁️ Data Science environment. All your work, analysis and datasets organized in the same place 🙌.\n",
        "\n",
        "![purple-divider](https://user-images.githubusercontent.com/7065401/52071927-c1cd7100-2562-11e9-908a-dde91ba14e59.png)"
      ]
    },
    {
      "cell_type": "markdown",
      "metadata": {
        "id": "WF6shc46H_vQ"
      },
      "source": [
        "### Objective of this tutorial:\n",
        "\n",
        "> **Help you get started with Notebooks.ai for Data Science and Python programming.**\n",
        "\n",
        "_Need help? Create an [issue](https://github.com/notebooks-ai/notebooks-help)._\n",
        "\n",
        "![green-divider](https://user-images.githubusercontent.com/7065401/52071924-c003ad80-2562-11e9-8297-1c6595f8a7ff.png)\n",
        "\n",
        "## Jupyter Notebooks\n",
        "\n",
        "This document that you're currently reading is a \"Jupyter Notebook\", and you've probably heard about it before. It's like a text document, but you can run code on it! It can also display inline graphs, pull data from Databases or show excel spreadsheets live! Isn't it amazing? 😄\n",
        "\n",
        "**Mildly interesting fact of the day:**\n",
        "\n",
        "> _Jupyter is a nod to 3 languages: Julia, Python, and R._ Source [@jakevdp](https://twitter.com/jakevdp/status/1033071052652302336).\n",
        "\n",
        "This is a really quick tutorial on how to get started with Jupyter notebooks (and lab). It shouldn't take more than 10 minutes and you'll be writing Python code right away.\n",
        "\n",
        "### Part 1: everything is a _cell_\n",
        "\n",
        "Jupyter Notebooks are organized as a set of _\"cells\"_. Each cell can contain different types of content: like Python code (or R, Julia, etc), images or even human readable text (markdown), like the one you're currently reading.\n",
        "\n",
        "I've left a couple of empty cells below for you to see them:"
      ]
    },
    {
      "cell_type": "code",
      "execution_count": null,
      "metadata": {
        "id": "jZfSruhlH_vR"
      },
      "outputs": [],
      "source": []
    },
    {
      "cell_type": "code",
      "execution_count": null,
      "metadata": {
        "id": "S-dzZdQ7H_vR"
      },
      "outputs": [],
      "source": []
    },
    {
      "cell_type": "code",
      "execution_count": null,
      "metadata": {
        "id": "ll_Zs1DpH_vR"
      },
      "outputs": [],
      "source": []
    },
    {
      "cell_type": "markdown",
      "metadata": {
        "id": "RyXAqXKEH_vS"
      },
      "source": [
        "This is another cell containing Markdown (human readable) code. And below, another empty cell:"
      ]
    },
    {
      "cell_type": "code",
      "execution_count": null,
      "metadata": {
        "id": "EbF0LnrTH_vS"
      },
      "outputs": [],
      "source": []
    },
    {
      "cell_type": "markdown",
      "metadata": {
        "id": "S0rr2UlUH_vS"
      },
      "source": [
        "You can edit these cells just by double clicking on them. Try editing the following cell:"
      ]
    },
    {
      "cell_type": "markdown",
      "metadata": {
        "id": "NoH7YlN_H_vS"
      },
      "source": [
        "**👉 Double click on me 👈**"
      ]
    },
    {
      "cell_type": "markdown",
      "metadata": {
        "id": "8EV_2H6iH_vT"
      },
      "source": [
        "When you double click the cell, it should open an \"edit mode\", and you should see something similar to:\n",
        "\n",
        "![image](https://github.com/rmotr-curriculum/ds-content-interactive-jupyterlab-tutorial/blob/master/images/_1.png?raw=1)"
      ]
    },
    {
      "cell_type": "markdown",
      "metadata": {
        "id": "5hqVyE5WH_vU"
      },
      "source": [
        "If you're seeing those asterisks, it's because you've correctly entered \"Edit Mode\". Once you've made the changes, you have to \"execute\", or \"run\" the cell to reflect the changes. To do that just click on the little _play_ button on the top menu bar:\n",
        "\n",
        "![image](https://github.com/rmotr-curriculum/ds-content-interactive-jupyterlab-tutorial/blob/master/images/_2.png?raw=1)"
      ]
    },
    {
      "cell_type": "markdown",
      "metadata": {
        "id": "sdCLklrjH_vU"
      },
      "source": [
        "Jupyter notebooks are optimized for an efficient workflow. There are many keyboard shortcuts that will let you interact with your documents, run code and make other changes; mastering these shortcuts will speed up your work. For example, there are two shortcuts to execute a cell:\n",
        "\n",
        "1. `shift + return`: Run cell and advance to the next one.\n",
        "2. `ctrl  + return`: Run the cell but don't change focus.\n",
        "\n",
        "\n",
        "Try them with the following cell:"
      ]
    },
    {
      "cell_type": "code",
      "execution_count": null,
      "metadata": {
        "id": "tzTPb3HdH_vU"
      },
      "outputs": [],
      "source": [
        "2 + 2"
      ]
    },
    {
      "cell_type": "markdown",
      "metadata": {
        "id": "djf7pgBoH_vV"
      },
      "source": [
        "You can try executing these cells as many times as you want, it won't break anything"
      ]
    },
    {
      "cell_type": "markdown",
      "metadata": {
        "id": "B_sqT1jXH_vV"
      },
      "source": [
        "#### `ctrl + Return` effect:\n",
        "\n",
        "As you can see in the following animation, the code is correctly executed (it returns 4) and the focus (the blue line at the left side of the cell) stays in the same cell.\n",
        "\n",
        "![ctrl+enter effect](https://github.com/rmotr-curriculum/ds-content-interactive-jupyterlab-tutorial/blob/master/images/_3.gif?raw=1)\n",
        "\n",
        "Now compare it to the next shortcut, `shift + return`:\n",
        "\n",
        "#### `shift + Return` effect:\n",
        "\n",
        "![shift+enter effect](https://github.com/rmotr-curriculum/ds-content-interactive-jupyterlab-tutorial/blob/master/images/_4.gif?raw=1)\n",
        "\n",
        "As you can see, every time I execute code the focus changes to the cell below."
      ]
    },
    {
      "cell_type": "markdown",
      "metadata": {
        "id": "NRERPhxdH_vV"
      },
      "source": [
        "![green-divider](https://user-images.githubusercontent.com/7065401/52071924-c003ad80-2562-11e9-8297-1c6595f8a7ff.png)"
      ]
    },
    {
      "cell_type": "markdown",
      "metadata": {
        "id": "3jzYZq1OH_vV"
      },
      "source": [
        "## Part 2: Working with code\n",
        "\n",
        "Jupyter notebooks have amazing features to include text and images and create beautiful, human readable documents as you've just seen. But their main benefit is working with code. Now we're going to import a few libraries and start experimenting with Python code. We've already done the simple `2 + 2` before, so let's do something a little bit more interesting. First, we need to import `numpy` and `matplotlib`:"
      ]
    },
    {
      "cell_type": "code",
      "execution_count": null,
      "metadata": {
        "id": "2UUhuJ73H_vW"
      },
      "outputs": [],
      "source": [
        "import numpy as np\n",
        "import matplotlib.pyplot as plt\n",
        "%matplotlib inline"
      ]
    },
    {
      "cell_type": "markdown",
      "metadata": {
        "id": "gRFzwVYLH_vW"
      },
      "source": [
        "Notebooks.ai include all the most popular Data Science and Deep Learning libraries already installed. And even if there's one missing, you can always install it in your own environment (more on that later). We've just imported these two libraries:\n",
        "* `numpy` the most popular Python library for array manipulation and numeric computing\n",
        "* `matplotlib` the most popular visualization library in the Python ecosystem.\n",
        "\n",
        "Let's now execute a few lines of code and generate some plots:"
      ]
    },
    {
      "cell_type": "code",
      "execution_count": null,
      "metadata": {
        "id": "zb0ok4W-H_vW"
      },
      "outputs": [],
      "source": [
        "x = np.linspace(0, 10, 500)\n",
        "y = np.cumsum(np.random.randn(500, 6), 0)"
      ]
    },
    {
      "cell_type": "code",
      "execution_count": null,
      "metadata": {
        "id": "PQxkiPO5H_vW"
      },
      "outputs": [],
      "source": [
        "plt.figure(figsize=(12, 7))\n",
        "plt.plot(x, y)\n",
        "plt.legend('ABCDEF', ncol=2, loc='upper left')"
      ]
    },
    {
      "cell_type": "markdown",
      "metadata": {
        "id": "iLidTYO_H_vW"
      },
      "source": [
        "But what is that 😱? Just random generated datapoints, but you can clearly see how simple is to do numeric processing and plotting with Notebooks.ai."
      ]
    },
    {
      "cell_type": "markdown",
      "metadata": {
        "id": "_Hk0SuTiH_vX"
      },
      "source": [
        "![green-divider](https://user-images.githubusercontent.com/7065401/52071924-c003ad80-2562-11e9-8297-1c6595f8a7ff.png)\n",
        "\n",
        "## Part 3: Interacting with data\n",
        "\n",
        "---\n",
        "\n",
        "<p style=\"color:red;font-weight:bold;font-size:36px\">WARNING: API changed. Read below for more details:</p>\n",
        "\n",
        "<p style=\"color:red;font-weight:bold;\">The original notebook of this tutorial used the Cryptowatch API to dynamically extract information about cryptocurrency prices. This tutorial was created in 2018, and since then, Kraken (the exchange) acquired cryptowatch and shut down their API (<a href=\"https://blog.kraken.com/product/cryptowatch-to-sunset-kraken-pro-to-integrate-cryptowatch-features\">read more here</a>).</p>\n",
        "\n",
        "<p style=\"color:red;font-weight:bold;\">I have now migrated the Cryptowatch API to Kraken's API, so the functionality is THE SAME, but of course this doesn't match what's explained in the video.</p>\n",
        "\n",
        "<p style=\"color:red;font-weight:bold;\">The rest of the notebook remains untouched:</p>\n",
        "\n",
        "---\n",
        "\n",
        "Notebooks.ai and Jupyter Lab make it really simple to intereact with files in your local storage. These files are securely stored in the cloud and you can access them from anywhere in the world.\n",
        "\n",
        "To show you the full potential of Notebooks.ai, we're going to pull cryptocurrencies prices from a public API and download them as Excel files, pretty fancy 😎. I need to import two libraries first: `requests` (to pull data from the web) and `pandas` to process it."
      ]
    },
    {
      "cell_type": "code",
      "execution_count": null,
      "metadata": {
        "id": "JAJ0BVt7H_vX"
      },
      "outputs": [],
      "source": [
        "import requests\n",
        "import pandas as pd"
      ]
    },
    {
      "cell_type": "code",
      "execution_count": null,
      "metadata": {
        "id": "5nP_LaQoH_vX"
      },
      "outputs": [],
      "source": [
        "def get_historic_price(symbol, after='2018-09-01'):\n",
        "\n",
        "    url = 'https://api.kraken.com/0/public/OHLC'\n",
        "    pair = f\"{symbol.upper()}USD\" # XBTUSD when symbol='xbt' for example\n",
        "\n",
        "    resp = requests.get(url, params={\n",
        "        \"pair\": pair,\n",
        "        'interval': 60,\n",
        "        'since': str(int(pd.Timestamp(after).timestamp()))\n",
        "    })\n",
        "    resp.raise_for_status()\n",
        "\n",
        "    data = resp.json()\n",
        "\n",
        "    results_key = [k for k in data['result'].keys() if k != 'last'][0]\n",
        "    results = [\n",
        "        (close_time, float(open), float(high), float(low), float(close), float(volume))\n",
        "        for (close_time, open, high, low, close, vwap, volume, count)\n",
        "        in data['result'][results_key]\n",
        "    ]\n",
        "    df = pd.DataFrame(results, columns=[\n",
        "        'CloseTime', 'OpenPrice', 'HighPrice', 'LowPrice', 'ClosePrice', 'Volume'\n",
        "    ])\n",
        "    df['CloseTime'] = pd.to_datetime(df['CloseTime'], unit='s')\n",
        "    df.set_index('CloseTime', inplace=True)\n",
        "    return df"
      ]
    },
    {
      "cell_type": "markdown",
      "metadata": {
        "id": "fMJj_zFaH_vX"
      },
      "source": [
        "I will now pull data from Bitcoin and Ether, two of the most popular cryptocurrencies, for the last 7 days:"
      ]
    },
    {
      "cell_type": "code",
      "execution_count": null,
      "metadata": {
        "id": "BnSj7drtH_vX"
      },
      "outputs": [],
      "source": [
        "last_week = (pd.Timestamp.now() - pd.offsets.Day(7))\n",
        "last_week"
      ]
    },
    {
      "cell_type": "code",
      "execution_count": null,
      "metadata": {
        "id": "t2NSYvStH_vY"
      },
      "outputs": [],
      "source": [
        "btc = get_historic_price('btc', after=last_week)"
      ]
    },
    {
      "cell_type": "code",
      "execution_count": null,
      "metadata": {
        "id": "DMv-c2tOH_vY"
      },
      "outputs": [],
      "source": [
        "eth = get_historic_price('eth', after=last_week)"
      ]
    },
    {
      "cell_type": "markdown",
      "metadata": {
        "id": "-Kn7bzRUH_vZ"
      },
      "source": [
        "**Bitcoin:**"
      ]
    },
    {
      "cell_type": "code",
      "execution_count": null,
      "metadata": {
        "id": "spoh-NQjH_vZ"
      },
      "outputs": [],
      "source": [
        "btc.head()"
      ]
    },
    {
      "cell_type": "code",
      "execution_count": null,
      "metadata": {
        "id": "sbdJaocbH_vZ"
      },
      "outputs": [],
      "source": [
        "btc.info()"
      ]
    },
    {
      "cell_type": "code",
      "execution_count": null,
      "metadata": {
        "id": "KLOMZQwTH_vZ"
      },
      "outputs": [],
      "source": [
        "btc['ClosePrice'].plot(figsize=(15, 7))"
      ]
    },
    {
      "cell_type": "markdown",
      "metadata": {
        "id": "Hn741EUjH_vZ"
      },
      "source": [
        "**Ether:**"
      ]
    },
    {
      "cell_type": "code",
      "execution_count": null,
      "metadata": {
        "id": "_oKq5ZD9H_vZ"
      },
      "outputs": [],
      "source": [
        "eth.head()"
      ]
    },
    {
      "cell_type": "code",
      "execution_count": null,
      "metadata": {
        "id": "04ED9a7RH_vZ"
      },
      "outputs": [],
      "source": [
        "eth['ClosePrice'].plot(figsize=(15, 7))"
      ]
    },
    {
      "cell_type": "markdown",
      "metadata": {
        "id": "IUwoENbOH_vZ"
      },
      "source": [
        "As you can see, we're able to pull data from the internet with just a few lines, create a DataFrame and plot it all within Jupyter Lab."
      ]
    },
    {
      "cell_type": "code",
      "execution_count": null,
      "metadata": {
        "id": "FvWoLSI0H_vZ"
      },
      "outputs": [],
      "source": [
        "eth.head()"
      ]
    },
    {
      "cell_type": "markdown",
      "metadata": {
        "id": "a1ggoqOmH_va"
      },
      "source": [
        "![green-divider](https://user-images.githubusercontent.com/7065401/52071924-c003ad80-2562-11e9-8297-1c6595f8a7ff.png)\n",
        "\n",
        "### Bonus: Dynamic plots with Bokeh\n",
        "\n",
        "We've also included [Bokeh](https://bokeh.pydata.org/) as part of this main distribution. Bokeh is a plotting library that generates interactive plots, that can be manipulated right within your browser.\n",
        "\n",
        "We first need to import the libraries:"
      ]
    },
    {
      "cell_type": "code",
      "execution_count": null,
      "metadata": {
        "id": "L1m1yPHfH_va"
      },
      "outputs": [],
      "source": [
        "from bokeh.plotting import figure, output_file, show\n",
        "from bokeh.io import output_notebook"
      ]
    },
    {
      "cell_type": "code",
      "execution_count": null,
      "metadata": {
        "id": "DtZDCqsWH_va"
      },
      "outputs": [],
      "source": [
        "output_notebook()"
      ]
    },
    {
      "cell_type": "markdown",
      "metadata": {
        "id": "R0CUJfLLH_va"
      },
      "source": [
        "And we generate the plot:"
      ]
    },
    {
      "cell_type": "code",
      "execution_count": null,
      "metadata": {
        "id": "FPp_nIbKH_va"
      },
      "outputs": [],
      "source": [
        "p1 = figure(x_axis_type=\"datetime\", title=\"Crypto Prices\", width=800)\n",
        "p1.grid.grid_line_alpha=0.3\n",
        "p1.xaxis.axis_label = 'Date'\n",
        "p1.yaxis.axis_label = 'Price'\n",
        "\n",
        "p1.line(btc.index, btc['ClosePrice'], color='#f2a900', legend='Bitcoin')\n",
        "#p1.line(eth.index, eth['ClosePrice'], color='#A6CEE3', legend='Ether')\n",
        "\n",
        "p1.legend.location = \"top_left\"\n",
        "\n",
        "show(p1)"
      ]
    },
    {
      "cell_type": "markdown",
      "metadata": {
        "id": "3_7kD0LhH_va"
      },
      "source": [
        "☝️ as you can see, the plot is interactive. Try zomming in and out, and scrolling in the plot."
      ]
    },
    {
      "cell_type": "markdown",
      "metadata": {
        "id": "rQQu8Y3MH_vc"
      },
      "source": [
        "![green-divider](https://user-images.githubusercontent.com/7065401/52071924-c003ad80-2562-11e9-8297-1c6595f8a7ff.png)\n",
        "\n",
        "## Part 4: Exporting to Excel\n",
        "\n",
        "We're now ready to generate an Excel file from the downloaded prices. Working with Excel and other formats (like CSV or JSON) is extremely simple in Jupyter Lab (thanks to pandas and Python). Our first step will be to create an \"Excel writer\", a component from the `pandas` package:"
      ]
    },
    {
      "cell_type": "code",
      "execution_count": null,
      "metadata": {
        "id": "Vm-0HbjSH_vc"
      },
      "outputs": [],
      "source": [
        "writer = pd.ExcelWriter('cryptos.xlsx')"
      ]
    },
    {
      "cell_type": "markdown",
      "metadata": {
        "id": "CbMyD3puH_vc"
      },
      "source": [
        "We'll now write both our Bitcoin and Ether data as separate sheets:"
      ]
    },
    {
      "cell_type": "code",
      "execution_count": null,
      "metadata": {
        "id": "WyWt3DtfH_vc"
      },
      "outputs": [],
      "source": [
        "btc.to_excel(writer, sheet_name='Bitcoin')"
      ]
    },
    {
      "cell_type": "code",
      "execution_count": null,
      "metadata": {
        "id": "ybVkdIrgH_vc"
      },
      "outputs": [],
      "source": [
        "eth.to_excel(writer, sheet_name='Ether')"
      ]
    },
    {
      "cell_type": "markdown",
      "metadata": {
        "id": "LUnkYf7SH_vc"
      },
      "source": [
        "And finally, we can save the file:"
      ]
    },
    {
      "cell_type": "code",
      "execution_count": null,
      "metadata": {
        "id": "X8cY8csAH_vc"
      },
      "outputs": [],
      "source": [
        "writer.save()"
      ]
    },
    {
      "cell_type": "markdown",
      "metadata": {
        "id": "x6gIVhyXH_vc"
      },
      "source": [
        "Once you've saved the file, you should see it in the left side navigation bar:\n",
        "\n",
        "![Excel file](https://github.com/rmotr-curriculum/ds-content-interactive-jupyterlab-tutorial/blob/master/images/_5.png?raw=1)"
      ]
    },
    {
      "cell_type": "markdown",
      "metadata": {
        "id": "nVMhFrYPH_vc"
      },
      "source": [
        "## Final words and how to get help\n",
        "\n",
        "That's it! It's your time now to start working and playing around with jupyter lab and Notebooks.ai. This product is in an early stage, so we'd love to receive all your feedback and suggestions. If you need help or ideas for us to implement, create an issue in the following replo: [https://github.com/notebooks-ai/notebooks-help](https://github.com/notebooks-ai/notebooks-help). It'll be highly appreciated!"
      ]
    },
    {
      "cell_type": "markdown",
      "metadata": {
        "id": "w_TZoS-rH_vc"
      },
      "source": [
        "![purple-divider](https://user-images.githubusercontent.com/7065401/52071927-c1cd7100-2562-11e9-908a-dde91ba14e59.png)"
      ]
    }
  ],
  "metadata": {
    "kernelspec": {
      "display_name": "Python 3 (ipykernel)",
      "language": "python",
      "name": "python3"
    },
    "language_info": {
      "codemirror_mode": {
        "name": "ipython",
        "version": 3
      },
      "file_extension": ".py",
      "mimetype": "text/x-python",
      "name": "python",
      "nbconvert_exporter": "python",
      "pygments_lexer": "ipython3",
      "version": "3.11.4"
    },
    "colab": {
      "provenance": []
    }
  },
  "nbformat": 4,
  "nbformat_minor": 0
}